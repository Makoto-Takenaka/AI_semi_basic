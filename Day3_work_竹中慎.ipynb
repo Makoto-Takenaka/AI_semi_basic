{
 "cells": [
  {
   "cell_type": "markdown",
   "metadata": {},
   "source": [
    "## 先生より指示の条件"
   ]
  },
  {
   "cell_type": "code",
   "execution_count": 1,
   "metadata": {},
   "outputs": [],
   "source": [
    "#df = df[df['state'].isin(['failed','successful'])]\n",
    "#df[\"state\"] = df[\"state\"]==\"successful\"\n",
    "#X = df[***].values\n",
    "#y = df[\"state\"].values\n",
    "#test_size = 0.2\n",
    "#X_train, X_test, y_train, y_test = train_test_split(X, y, test_size=test_size,\n",
    "#random_state=1234)"
   ]
  },
  {
   "cell_type": "markdown",
   "metadata": {},
   "source": [
    "## 方針：\n",
    "- 変数は極力削除しない。むしろ2次変数や、変数同士の割り算等なるべく増やす方向。\n",
    "- 計算が軽いLogistic Regressionで味見。\n",
    "- 最終的に、勾配ブースティング学習器（xgboostを使用）が何とかしてくれることを期待。\n",
    "- 可視化による検証等は行えませんでした。読みにくいですが、ご容赦ください。"
   ]
  },
  {
   "cell_type": "markdown",
   "metadata": {},
   "source": [
    "## 結果(Accuracy)\n",
    "- ロジスティック回帰　テスト：68.382%　　訓練：68.450%\n",
    "- xgboost　　　　　　 テスト：70.907%　　訓練：73.160%"
   ]
  },
  {
   "cell_type": "markdown",
   "metadata": {},
   "source": [
    "## 1. ライブラリのインポート"
   ]
  },
  {
   "cell_type": "code",
   "execution_count": 2,
   "metadata": {},
   "outputs": [
    {
     "name": "stderr",
     "output_type": "stream",
     "text": [
      "C:\\Users\\macta\\Anaconda3\\lib\\site-packages\\dask\\config.py:168: YAMLLoadWarning: calling yaml.load() without Loader=... is deprecated, as the default Loader is unsafe. Please read https://msg.pyyaml.org/load for full details.\n",
      "  data = yaml.load(f.read()) or {}\n",
      "C:\\Users\\macta\\Anaconda3\\lib\\site-packages\\distributed\\config.py:20: YAMLLoadWarning: calling yaml.load() without Loader=... is deprecated, as the default Loader is unsafe. Please read https://msg.pyyaml.org/load for full details.\n",
      "  defaults = yaml.load(f)\n"
     ]
    }
   ],
   "source": [
    "%matplotlib inline\n",
    "import pandas as pd\n",
    "import numpy as np\n",
    "import matplotlib.pyplot as plt\n",
    "import seaborn as sns\n",
    "import sklearn.linear_model\n",
    "import sklearn.metrics\n",
    "import sklearn.model_selection \n",
    "import sklearn.svm\n",
    "import sklearn.preprocessing\n",
    "import datetime\n",
    "import csv\n",
    "import math\n",
    "from sklearn.model_selection import train_test_split\n",
    "from sklearn.linear_model import SGDClassifier\n",
    "from sklearn.linear_model import LogisticRegression\n",
    "from datetime import datetime as dt\n",
    "import xgboost as xgb\n",
    "from sklearn.preprocessing import StandardScaler\n",
    "#from sklearn.ensemble import RandomForestClassifier\n",
    "from sklearn.metrics import mean_squared_error, mean_absolute_error \n",
    "from sklearn.metrics import accuracy_score, precision_recall_fscore_support, confusion_matrix "
   ]
  },
  {
   "cell_type": "markdown",
   "metadata": {},
   "source": [
    "## 2. データの読み込み\n",
    "### 欠損値データ、不要データの削除"
   ]
  },
  {
   "cell_type": "code",
   "execution_count": 3,
   "metadata": {},
   "outputs": [],
   "source": [
    "df = pd.read_csv(\"ks-projects-201801.csv\", parse_dates=True)"
   ]
  },
  {
   "cell_type": "code",
   "execution_count": 4,
   "metadata": {},
   "outputs": [
    {
     "name": "stdout",
     "output_type": "stream",
     "text": [
      "<class 'pandas.core.frame.DataFrame'>\n",
      "RangeIndex: 378661 entries, 0 to 378660\n",
      "Data columns (total 15 columns):\n",
      "ID                  378661 non-null int64\n",
      "name                378657 non-null object\n",
      "category            378661 non-null object\n",
      "main_category       378661 non-null object\n",
      "currency            378661 non-null object\n",
      "deadline            378661 non-null object\n",
      "goal                378661 non-null float64\n",
      "launched            378661 non-null object\n",
      "pledged             378661 non-null float64\n",
      "state               378661 non-null object\n",
      "backers             378661 non-null int64\n",
      "country             378661 non-null object\n",
      "usd pledged         374864 non-null float64\n",
      "usd_pledged_real    378661 non-null float64\n",
      "usd_goal_real       378661 non-null float64\n",
      "dtypes: float64(5), int64(2), object(8)\n",
      "memory usage: 43.3+ MB\n"
     ]
    }
   ],
   "source": [
    "df.info()"
   ]
  },
  {
   "cell_type": "markdown",
   "metadata": {},
   "source": [
    "### 'state'=='failed' or 'succellful'以外は削除する。'succellful'=1, 'failed'=0とする"
   ]
  },
  {
   "cell_type": "code",
   "execution_count": 5,
   "metadata": {
    "scrolled": false
   },
   "outputs": [
    {
     "data": {
      "text/plain": [
       "failed        197719\n",
       "successful    133956\n",
       "Name: state, dtype: int64"
      ]
     },
     "execution_count": 5,
     "metadata": {},
     "output_type": "execute_result"
    }
   ],
   "source": [
    "df=df[(df.state == 'failed') | (df.state == 'successful')]\n",
    "df.state.value_counts()"
   ]
  },
  {
   "cell_type": "code",
   "execution_count": 6,
   "metadata": {
    "scrolled": true
   },
   "outputs": [],
   "source": [
    "df.loc[df.state=='successful',[\"state\"]]=1\n",
    "df.loc[df.state=='failed',[\"state\"]]=0"
   ]
  },
  {
   "cell_type": "markdown",
   "metadata": {},
   "source": [
    "### 未来の変数は削除"
   ]
  },
  {
   "cell_type": "code",
   "execution_count": 7,
   "metadata": {},
   "outputs": [],
   "source": [
    "def pre_drop_colomn(df):\n",
    "    df.drop('pledged', axis=1, inplace=True)\n",
    "    df.drop('backers', axis=1, inplace=True)\n",
    "    df.drop('usd pledged', axis=1, inplace=True)\n",
    "    df.drop('usd_pledged_real', axis=1, inplace=True)\n",
    "    df.drop('goal', axis=1, inplace=True)\n",
    "    return df"
   ]
  },
  {
   "cell_type": "code",
   "execution_count": 8,
   "metadata": {
    "scrolled": true
   },
   "outputs": [
    {
     "data": {
      "text/html": [
       "<div>\n",
       "<style scoped>\n",
       "    .dataframe tbody tr th:only-of-type {\n",
       "        vertical-align: middle;\n",
       "    }\n",
       "\n",
       "    .dataframe tbody tr th {\n",
       "        vertical-align: top;\n",
       "    }\n",
       "\n",
       "    .dataframe thead th {\n",
       "        text-align: right;\n",
       "    }\n",
       "</style>\n",
       "<table border=\"1\" class=\"dataframe\">\n",
       "  <thead>\n",
       "    <tr style=\"text-align: right;\">\n",
       "      <th></th>\n",
       "      <th>ID</th>\n",
       "      <th>name</th>\n",
       "      <th>category</th>\n",
       "      <th>main_category</th>\n",
       "      <th>currency</th>\n",
       "      <th>deadline</th>\n",
       "      <th>launched</th>\n",
       "      <th>state</th>\n",
       "      <th>country</th>\n",
       "      <th>usd_goal_real</th>\n",
       "    </tr>\n",
       "  </thead>\n",
       "  <tbody>\n",
       "    <tr>\n",
       "      <th>0</th>\n",
       "      <td>1000002330</td>\n",
       "      <td>The Songs of Adelaide &amp; Abullah</td>\n",
       "      <td>Poetry</td>\n",
       "      <td>Publishing</td>\n",
       "      <td>GBP</td>\n",
       "      <td>2015-10-09</td>\n",
       "      <td>2015-08-11 12:12:28</td>\n",
       "      <td>0</td>\n",
       "      <td>GB</td>\n",
       "      <td>1533.95</td>\n",
       "    </tr>\n",
       "    <tr>\n",
       "      <th>1</th>\n",
       "      <td>1000003930</td>\n",
       "      <td>Greeting From Earth: ZGAC Arts Capsule For ET</td>\n",
       "      <td>Narrative Film</td>\n",
       "      <td>Film &amp; Video</td>\n",
       "      <td>USD</td>\n",
       "      <td>2017-11-01</td>\n",
       "      <td>2017-09-02 04:43:57</td>\n",
       "      <td>0</td>\n",
       "      <td>US</td>\n",
       "      <td>30000.00</td>\n",
       "    </tr>\n",
       "    <tr>\n",
       "      <th>2</th>\n",
       "      <td>1000004038</td>\n",
       "      <td>Where is Hank?</td>\n",
       "      <td>Narrative Film</td>\n",
       "      <td>Film &amp; Video</td>\n",
       "      <td>USD</td>\n",
       "      <td>2013-02-26</td>\n",
       "      <td>2013-01-12 00:20:50</td>\n",
       "      <td>0</td>\n",
       "      <td>US</td>\n",
       "      <td>45000.00</td>\n",
       "    </tr>\n",
       "    <tr>\n",
       "      <th>3</th>\n",
       "      <td>1000007540</td>\n",
       "      <td>ToshiCapital Rekordz Needs Help to Complete Album</td>\n",
       "      <td>Music</td>\n",
       "      <td>Music</td>\n",
       "      <td>USD</td>\n",
       "      <td>2012-04-16</td>\n",
       "      <td>2012-03-17 03:24:11</td>\n",
       "      <td>0</td>\n",
       "      <td>US</td>\n",
       "      <td>5000.00</td>\n",
       "    </tr>\n",
       "    <tr>\n",
       "      <th>5</th>\n",
       "      <td>1000014025</td>\n",
       "      <td>Monarch Espresso Bar</td>\n",
       "      <td>Restaurants</td>\n",
       "      <td>Food</td>\n",
       "      <td>USD</td>\n",
       "      <td>2016-04-01</td>\n",
       "      <td>2016-02-26 13:38:27</td>\n",
       "      <td>1</td>\n",
       "      <td>US</td>\n",
       "      <td>50000.00</td>\n",
       "    </tr>\n",
       "  </tbody>\n",
       "</table>\n",
       "</div>"
      ],
      "text/plain": [
       "           ID                                               name  \\\n",
       "0  1000002330                    The Songs of Adelaide & Abullah   \n",
       "1  1000003930      Greeting From Earth: ZGAC Arts Capsule For ET   \n",
       "2  1000004038                                     Where is Hank?   \n",
       "3  1000007540  ToshiCapital Rekordz Needs Help to Complete Album   \n",
       "5  1000014025                               Monarch Espresso Bar   \n",
       "\n",
       "         category main_category currency    deadline             launched  \\\n",
       "0          Poetry    Publishing      GBP  2015-10-09  2015-08-11 12:12:28   \n",
       "1  Narrative Film  Film & Video      USD  2017-11-01  2017-09-02 04:43:57   \n",
       "2  Narrative Film  Film & Video      USD  2013-02-26  2013-01-12 00:20:50   \n",
       "3           Music         Music      USD  2012-04-16  2012-03-17 03:24:11   \n",
       "5     Restaurants          Food      USD  2016-04-01  2016-02-26 13:38:27   \n",
       "\n",
       "   state country  usd_goal_real  \n",
       "0      0      GB        1533.95  \n",
       "1      0      US       30000.00  \n",
       "2      0      US       45000.00  \n",
       "3      0      US        5000.00  \n",
       "5      1      US       50000.00  "
      ]
     },
     "metadata": {},
     "output_type": "display_data"
    }
   ],
   "source": [
    "#headで確認\n",
    "df = pre_drop_colomn(df)\n",
    "display(df.head())"
   ]
  },
  {
   "cell_type": "markdown",
   "metadata": {},
   "source": [
    "### 各変数のタイプ"
   ]
  },
  {
   "cell_type": "code",
   "execution_count": 9,
   "metadata": {},
   "outputs": [
    {
     "data": {
      "text/plain": [
       "ID                 int64\n",
       "name              object\n",
       "category          object\n",
       "main_category     object\n",
       "currency          object\n",
       "deadline          object\n",
       "launched          object\n",
       "state              int64\n",
       "country           object\n",
       "usd_goal_real    float64\n",
       "dtype: object"
      ]
     },
     "execution_count": 9,
     "metadata": {},
     "output_type": "execute_result"
    }
   ],
   "source": [
    "df.dtypes"
   ]
  },
  {
   "cell_type": "markdown",
   "metadata": {},
   "source": [
    "### 'name'に欠損値あり、欠損値は' 'とする"
   ]
  },
  {
   "cell_type": "code",
   "execution_count": 10,
   "metadata": {},
   "outputs": [
    {
     "data": {
      "text/plain": [
       "ID               0\n",
       "name             3\n",
       "category         0\n",
       "main_category    0\n",
       "currency         0\n",
       "deadline         0\n",
       "launched         0\n",
       "state            0\n",
       "country          0\n",
       "usd_goal_real    0\n",
       "dtype: int64"
      ]
     },
     "execution_count": 10,
     "metadata": {},
     "output_type": "execute_result"
    }
   ],
   "source": [
    "df.isnull().sum()"
   ]
  },
  {
   "cell_type": "code",
   "execution_count": 11,
   "metadata": {
    "scrolled": true
   },
   "outputs": [
    {
     "data": {
      "text/html": [
       "<div>\n",
       "<style scoped>\n",
       "    .dataframe tbody tr th:only-of-type {\n",
       "        vertical-align: middle;\n",
       "    }\n",
       "\n",
       "    .dataframe tbody tr th {\n",
       "        vertical-align: top;\n",
       "    }\n",
       "\n",
       "    .dataframe thead th {\n",
       "        text-align: right;\n",
       "    }\n",
       "</style>\n",
       "<table border=\"1\" class=\"dataframe\">\n",
       "  <thead>\n",
       "    <tr style=\"text-align: right;\">\n",
       "      <th></th>\n",
       "      <th>ID</th>\n",
       "      <th>name</th>\n",
       "      <th>category</th>\n",
       "      <th>main_category</th>\n",
       "      <th>currency</th>\n",
       "      <th>deadline</th>\n",
       "      <th>launched</th>\n",
       "      <th>state</th>\n",
       "      <th>country</th>\n",
       "      <th>usd_goal_real</th>\n",
       "    </tr>\n",
       "  </thead>\n",
       "  <tbody>\n",
       "    <tr>\n",
       "      <th>166851</th>\n",
       "      <td>1848699072</td>\n",
       "      <td>NaN</td>\n",
       "      <td>Narrative Film</td>\n",
       "      <td>Film &amp; Video</td>\n",
       "      <td>USD</td>\n",
       "      <td>2012-02-29</td>\n",
       "      <td>2012-01-01 12:35:31</td>\n",
       "      <td>0</td>\n",
       "      <td>US</td>\n",
       "      <td>200000.00</td>\n",
       "    </tr>\n",
       "    <tr>\n",
       "      <th>307234</th>\n",
       "      <td>634871725</td>\n",
       "      <td>NaN</td>\n",
       "      <td>Video Games</td>\n",
       "      <td>Games</td>\n",
       "      <td>GBP</td>\n",
       "      <td>2013-01-06</td>\n",
       "      <td>2012-12-19 23:57:48</td>\n",
       "      <td>0</td>\n",
       "      <td>GB</td>\n",
       "      <td>3224.97</td>\n",
       "    </tr>\n",
       "    <tr>\n",
       "      <th>338931</th>\n",
       "      <td>796533179</td>\n",
       "      <td>NaN</td>\n",
       "      <td>Painting</td>\n",
       "      <td>Art</td>\n",
       "      <td>USD</td>\n",
       "      <td>2011-12-05</td>\n",
       "      <td>2011-11-06 23:55:55</td>\n",
       "      <td>0</td>\n",
       "      <td>US</td>\n",
       "      <td>35000.00</td>\n",
       "    </tr>\n",
       "  </tbody>\n",
       "</table>\n",
       "</div>"
      ],
      "text/plain": [
       "                ID name        category main_category currency    deadline  \\\n",
       "166851  1848699072  NaN  Narrative Film  Film & Video      USD  2012-02-29   \n",
       "307234   634871725  NaN     Video Games         Games      GBP  2013-01-06   \n",
       "338931   796533179  NaN        Painting           Art      USD  2011-12-05   \n",
       "\n",
       "                   launched  state country  usd_goal_real  \n",
       "166851  2012-01-01 12:35:31      0      US      200000.00  \n",
       "307234  2012-12-19 23:57:48      0      GB        3224.97  \n",
       "338931  2011-11-06 23:55:55      0      US       35000.00  "
      ]
     },
     "execution_count": 11,
     "metadata": {},
     "output_type": "execute_result"
    }
   ],
   "source": [
    "df[df['name'].isnull()]"
   ]
  },
  {
   "cell_type": "code",
   "execution_count": 12,
   "metadata": {
    "scrolled": false
   },
   "outputs": [
    {
     "data": {
      "text/plain": [
       "ID               0\n",
       "name             0\n",
       "category         0\n",
       "main_category    0\n",
       "currency         0\n",
       "deadline         0\n",
       "launched         0\n",
       "state            0\n",
       "country          0\n",
       "usd_goal_real    0\n",
       "dtype: int64"
      ]
     },
     "execution_count": 12,
     "metadata": {},
     "output_type": "execute_result"
    }
   ],
   "source": [
    "df['name'] = df['name'].fillna(' ')\n",
    "df.isnull().sum()"
   ]
  },
  {
   "cell_type": "code",
   "execution_count": 13,
   "metadata": {
    "scrolled": false
   },
   "outputs": [
    {
     "data": {
      "text/html": [
       "<div>\n",
       "<style scoped>\n",
       "    .dataframe tbody tr th:only-of-type {\n",
       "        vertical-align: middle;\n",
       "    }\n",
       "\n",
       "    .dataframe tbody tr th {\n",
       "        vertical-align: top;\n",
       "    }\n",
       "\n",
       "    .dataframe thead th {\n",
       "        text-align: right;\n",
       "    }\n",
       "</style>\n",
       "<table border=\"1\" class=\"dataframe\">\n",
       "  <thead>\n",
       "    <tr style=\"text-align: right;\">\n",
       "      <th></th>\n",
       "      <th>ID</th>\n",
       "      <th>name</th>\n",
       "      <th>category</th>\n",
       "      <th>main_category</th>\n",
       "      <th>currency</th>\n",
       "      <th>deadline</th>\n",
       "      <th>launched</th>\n",
       "      <th>state</th>\n",
       "      <th>country</th>\n",
       "      <th>usd_goal_real</th>\n",
       "    </tr>\n",
       "  </thead>\n",
       "  <tbody>\n",
       "    <tr>\n",
       "      <th>166851</th>\n",
       "      <td>1848699072</td>\n",
       "      <td></td>\n",
       "      <td>Narrative Film</td>\n",
       "      <td>Film &amp; Video</td>\n",
       "      <td>USD</td>\n",
       "      <td>2012-02-29</td>\n",
       "      <td>2012-01-01 12:35:31</td>\n",
       "      <td>0</td>\n",
       "      <td>US</td>\n",
       "      <td>200000.0</td>\n",
       "    </tr>\n",
       "  </tbody>\n",
       "</table>\n",
       "</div>"
      ],
      "text/plain": [
       "                ID name        category main_category currency    deadline  \\\n",
       "166851  1848699072       Narrative Film  Film & Video      USD  2012-02-29   \n",
       "\n",
       "                   launched  state country  usd_goal_real  \n",
       "166851  2012-01-01 12:35:31      0      US       200000.0  "
      ]
     },
     "execution_count": 13,
     "metadata": {},
     "output_type": "execute_result"
    }
   ],
   "source": [
    "df[df['ID']==1848699072]"
   ]
  },
  {
   "cell_type": "markdown",
   "metadata": {},
   "source": [
    "## 3. 前処理"
   ]
  },
  {
   "cell_type": "markdown",
   "metadata": {},
   "source": [
    "## 3-1 国及び通貨の検討"
   ]
  },
  {
   "cell_type": "markdown",
   "metadata": {},
   "source": [
    "### 'country'=='N,0\"'は'NO'ノルウェーの誤り?->単なる欠損値なのか？\n",
    "https://www.wipo.int/export/sites/www/pct/guide/ja/gdvol1/annexes/annexk/ax_k.pdf"
   ]
  },
  {
   "cell_type": "code",
   "execution_count": 14,
   "metadata": {
    "scrolled": true
   },
   "outputs": [
    {
     "data": {
      "text/plain": [
       "array(['GB', 'US', 'CA', 'AU', 'NO', 'IT', 'DE', 'IE', 'MX', 'ES', 'SE',\n",
       "       'FR', 'NZ', 'CH', 'AT', 'BE', 'DK', 'HK', 'NL', 'LU', 'SG', 'N,0\"',\n",
       "       'JP'], dtype=object)"
      ]
     },
     "execution_count": 14,
     "metadata": {},
     "output_type": "execute_result"
    }
   ],
   "source": [
    "df['country'].unique()"
   ]
  },
  {
   "cell_type": "code",
   "execution_count": 15,
   "metadata": {
    "scrolled": true
   },
   "outputs": [
    {
     "data": {
      "text/plain": [
       "210"
      ]
     },
     "execution_count": 15,
     "metadata": {},
     "output_type": "execute_result"
    }
   ],
   "source": [
    "df[df['country']=='N,0\"']['country'].count()"
   ]
  },
  {
   "cell_type": "code",
   "execution_count": 16,
   "metadata": {
    "scrolled": false
   },
   "outputs": [
    {
     "data": {
      "text/plain": [
       "582"
      ]
     },
     "execution_count": 16,
     "metadata": {},
     "output_type": "execute_result"
    }
   ],
   "source": [
    "df[df['country']=='NO']['country'].count()"
   ]
  },
  {
   "cell_type": "markdown",
   "metadata": {},
   "source": [
    "### わからないので、'country'=='N,0\"'はそのままとする"
   ]
  },
  {
   "cell_type": "code",
   "execution_count": 17,
   "metadata": {},
   "outputs": [],
   "source": [
    "#df = df.replace({'country': {'N,0\"': 'NO'}})"
   ]
  },
  {
   "cell_type": "code",
   "execution_count": 18,
   "metadata": {},
   "outputs": [],
   "source": [
    "#df['country'].unique()"
   ]
  },
  {
   "cell_type": "code",
   "execution_count": 19,
   "metadata": {
    "scrolled": true
   },
   "outputs": [],
   "source": [
    "#df[df['country']=='NO']['country'].count()"
   ]
  },
  {
   "cell_type": "code",
   "execution_count": 20,
   "metadata": {
    "scrolled": true
   },
   "outputs": [
    {
     "data": {
      "text/plain": [
       "array(['GBP', 'USD', 'CAD', 'AUD', 'NOK', 'EUR', 'MXN', 'SEK', 'NZD',\n",
       "       'CHF', 'DKK', 'HKD', 'SGD', 'JPY'], dtype=object)"
      ]
     },
     "execution_count": 20,
     "metadata": {},
     "output_type": "execute_result"
    }
   ],
   "source": [
    "df['currency'].unique()"
   ]
  },
  {
   "cell_type": "markdown",
   "metadata": {},
   "source": [
    "### 自国通貨でないかどうかのflag"
   ]
  },
  {
   "cell_type": "code",
   "execution_count": 21,
   "metadata": {},
   "outputs": [],
   "source": [
    "dic_currency={'GB':'GBP','US':'USD','CA':'CAD','AU':'AUD','NO':'NOK','IT':'EUR','DE':'EUR','IE':'EUR','MX':'MXN','ES':'EUR','SE':'SEK','FR':'EUR','NZ':'NZD','CH':'CHF','AT':'EUR','BE':'EUR','DK':'DKK','HK':'HKD','NL':'EUR','LU':'EUR','SG':'SGD','JP':'JPY'}"
   ]
  },
  {
   "cell_type": "code",
   "execution_count": 22,
   "metadata": {
    "scrolled": false
   },
   "outputs": [],
   "source": [
    "df['own_currency'] = df['country'].map(dic_currency)\n",
    "df['use_own_currency'] = df['currency']==df['own_currency']"
   ]
  },
  {
   "cell_type": "markdown",
   "metadata": {},
   "source": [
    "### EUROを使っているかのflag"
   ]
  },
  {
   "cell_type": "code",
   "execution_count": 23,
   "metadata": {},
   "outputs": [],
   "source": [
    "list_EUR = ['IT', 'DE', 'IE', 'ES', 'FR', 'AT', 'BE', 'NL', 'LU']"
   ]
  },
  {
   "cell_type": "code",
   "execution_count": 24,
   "metadata": {},
   "outputs": [],
   "source": [
    "df.loc[df.use_own_currency==True,['use_own_currency']]=1\n",
    "df.loc[df.use_own_currency==False,['use_own_currency']]=0"
   ]
  },
  {
   "cell_type": "code",
   "execution_count": 25,
   "metadata": {},
   "outputs": [],
   "source": [
    "df['use_EUR']=df['country'].isin(list_EUR)\n",
    "df.loc[df.use_EUR==True,['use_EUR']]=1\n",
    "df.loc[df.use_EUR==False,['use_EUR']]=0"
   ]
  },
  {
   "cell_type": "markdown",
   "metadata": {},
   "source": [
    "## 3-2 'category'について\n",
    "### 'category' == 'main_category'であるかどうかのflag"
   ]
  },
  {
   "cell_type": "code",
   "execution_count": 26,
   "metadata": {
    "scrolled": true
   },
   "outputs": [
    {
     "name": "stdout",
     "output_type": "stream",
     "text": [
      "['Publishing' 'Film & Video' 'Music' 'Food' 'Crafts' 'Games' 'Design'\n",
      " 'Comics' 'Fashion' 'Theater' 'Art' 'Photography' 'Technology' 'Dance'\n",
      " 'Journalism']\n"
     ]
    }
   ],
   "source": [
    "list_main_category = df['main_category'].unique()\n",
    "print(list_main_category)"
   ]
  },
  {
   "cell_type": "code",
   "execution_count": 27,
   "metadata": {},
   "outputs": [],
   "source": [
    "df['no_sub_div_category']= (df['main_category']==df['category'])\n",
    "df.loc[df.no_sub_div_category==True,['no_sub_div_category']]=1\n",
    "df.loc[df.no_sub_div_category==False,['no_sub_div_category']]=0"
   ]
  },
  {
   "cell_type": "markdown",
   "metadata": {},
   "source": [
    "## 3-3 'name'についての検討"
   ]
  },
  {
   "cell_type": "markdown",
   "metadata": {},
   "source": [
    "### 頻出単語を含むかどうかを説明変数に追加（1000回以上出てくるものを目安）\n",
    "### 'name'を全部小文字化"
   ]
  },
  {
   "cell_type": "code",
   "execution_count": 28,
   "metadata": {},
   "outputs": [],
   "source": [
    "df['name']=df['name'].str.lower()"
   ]
  },
  {
   "cell_type": "markdown",
   "metadata": {},
   "source": [
    "### 計算が少し重いので、一旦csvに保存"
   ]
  },
  {
   "cell_type": "code",
   "execution_count": 29,
   "metadata": {
    "scrolled": false
   },
   "outputs": [],
   "source": [
    "def count_word(df):\n",
    "    word_dic = {}\n",
    "    for tmp in list(df['ID']):\n",
    "        list_name_split = df[df['ID']==tmp]['name'].str.split().values.tolist()\n",
    "        temp_word=list_name_split[0]\n",
    "        if type(temp_word)!= float:\n",
    "            for temp_word in list_name_split[0]:\n",
    "                if str(temp_word) in word_dic:\n",
    "                    word_dic[str(temp_word.lower())] =  word_dic[str(temp_word).lower()]+1\n",
    "                else:\n",
    "                    word_dic.setdefault(str(temp_word.lower()), 1)\n",
    "    return word_dic"
   ]
  },
  {
   "cell_type": "code",
   "execution_count": 30,
   "metadata": {},
   "outputs": [],
   "source": [
    "#count_word(df)\n",
    "#word_dic_sort = sorted(word_dic.items(), key=lambda x:x[1], reverse=True)"
   ]
  },
  {
   "cell_type": "code",
   "execution_count": 31,
   "metadata": {},
   "outputs": [],
   "source": [
    "#df_word_dic = pd.DataFrame(word_dic_sort)\n",
    "#df_word_dic.to_csv('word_dic_sort.csv')"
   ]
  },
  {
   "cell_type": "markdown",
   "metadata": {},
   "source": [
    "### 'the','a'などの接頭語等は手動で削除"
   ]
  },
  {
   "cell_type": "markdown",
   "metadata": {},
   "source": [
    "### 抽出した単語を表示"
   ]
  },
  {
   "cell_type": "code",
   "execution_count": 32,
   "metadata": {
    "scrolled": true
   },
   "outputs": [
    {
     "data": {
      "text/plain": [
       "array(['album', 'film', 'project', 'book', 'art', 'game', 'music',\n",
       "       'first', 'help', 'short', 'debut', 'documentary', 'series', 'life',\n",
       "       'ep', 'world', 'video', 'love', 'make', 'story', 'novel', 'tour',\n",
       "       'app', 'all', 'food', 'cd', ':', 'show', 'me', 'card', 'studio',\n",
       "       'get', 'festival', 'record', 'feature', 'made', '\\\\/',\n",
       "       'collection', 'movie', 'time', 'magazine', 'clothing', 'dance',\n",
       "       'playing', 'recording', 'comic', 'fund', 'american', 'free',\n",
       "       'home', 'live', 'adventure', 'city', 'mobile', 'little', 'kids',\n",
       "       'making', '3d', 'edition', '\\\\+', 'release', 'man', 'children',\n",
       "       'full', 'black', 'journey', 'big', 'design', 'photography',\n",
       "       'company', 'coffee', 'fashion', 'dream', 'fantasy', 'best', 'day',\n",
       "       'light', 'community', 'space', 'way', 'play', 'more', 'board',\n",
       "       'bring', 'graphic', 'horror', 'season', 'house', 'custom', 'out',\n",
       "       'musical', 'back', 'rpg', 'original', 'comedy', 'system', 'not',\n",
       "       'apparel', 'support', 'next', 'smart', 'web', 'ultimate', 'great',\n",
       "       'launch', 'last', 'issue', 'people', 'two', 'dark', 'real',\n",
       "       'length', 'how', 'needs', 'road', 'production', 'high', 'la',\n",
       "       'school', 'social', 'family'], dtype=object)"
      ]
     },
     "execution_count": 32,
     "metadata": {},
     "output_type": "execute_result"
    }
   ],
   "source": [
    "ws= pd.read_csv(\"word_dic_read.csv\",parse_dates=True)\n",
    "ws.values.squeeze()"
   ]
  },
  {
   "cell_type": "code",
   "execution_count": 33,
   "metadata": {
    "scrolled": true
   },
   "outputs": [],
   "source": [
    "for j in ws.values.squeeze():\n",
    "    df['contain_'+j]=df['name'].str.contains(j)*1"
   ]
  },
  {
   "cell_type": "markdown",
   "metadata": {},
   "source": [
    "### 'name'の長さを説明変数に追加"
   ]
  },
  {
   "cell_type": "code",
   "execution_count": 34,
   "metadata": {},
   "outputs": [],
   "source": [
    "#nameの長さ\n",
    "df['name_len'] = (df['name'].str).len()"
   ]
  },
  {
   "cell_type": "markdown",
   "metadata": {},
   "source": [
    "### 'name'の単語数≒スペースの数を説明変数に追加"
   ]
  },
  {
   "cell_type": "code",
   "execution_count": 35,
   "metadata": {},
   "outputs": [],
   "source": [
    "#単語数\n",
    "df[\"name_words\"] = df.name.str.count(\" \")"
   ]
  },
  {
   "cell_type": "markdown",
   "metadata": {},
   "source": [
    "### 不採用　IDの桁数"
   ]
  },
  {
   "cell_type": "code",
   "execution_count": 36,
   "metadata": {},
   "outputs": [],
   "source": [
    "#df['ID_digit']=np.log10(df['ID'])"
   ]
  },
  {
   "cell_type": "markdown",
   "metadata": {},
   "source": [
    "## 3-4 日付及び曜日について"
   ]
  },
  {
   "cell_type": "markdown",
   "metadata": {},
   "source": [
    "### 締切日までの日数を説明変数に追加"
   ]
  },
  {
   "cell_type": "code",
   "execution_count": 37,
   "metadata": {},
   "outputs": [],
   "source": [
    "df['launched'] = pd.to_datetime(df['launched'], format='%Y-%m-%d %H:%M:%S')\n",
    "df['deadline'] = pd.to_datetime(df['deadline'], format='%Y-%m-%d %H:%M:%S')\n",
    "df['duration'] = (df['deadline'] - df['launched']).dt.days"
   ]
  },
  {
   "cell_type": "markdown",
   "metadata": {},
   "source": [
    "### 同日が締切日もある\n",
    "#### df[df['duration']==0]　は、小数で表現"
   ]
  },
  {
   "cell_type": "code",
   "execution_count": 38,
   "metadata": {},
   "outputs": [],
   "source": [
    "df.loc[df.duration==0,['duration']]=(df['launched'].dt.hour*3600+df['launched'].dt.minute*60+df['launched'].dt.second)/(24*60*60)"
   ]
  },
  {
   "cell_type": "markdown",
   "metadata": {},
   "source": [
    "### 曜日を説明変数に追加"
   ]
  },
  {
   "cell_type": "code",
   "execution_count": 39,
   "metadata": {},
   "outputs": [],
   "source": [
    "df[\"launched_dayofweek\"] = df['launched'].dt.dayofweek\n",
    "df[\"deadline_dayofweek\"] = df['deadline'].dt.dayofweek"
   ]
  },
  {
   "cell_type": "markdown",
   "metadata": {},
   "source": [
    "### 目標金額÷締切期間を説明変数に追加"
   ]
  },
  {
   "cell_type": "code",
   "execution_count": 40,
   "metadata": {},
   "outputs": [],
   "source": [
    "df['goal_per_duration']=df['usd_goal_real']/df['duration']"
   ]
  },
  {
   "cell_type": "markdown",
   "metadata": {},
   "source": [
    "### 年について説明変数に追加"
   ]
  },
  {
   "cell_type": "code",
   "execution_count": 41,
   "metadata": {
    "scrolled": true
   },
   "outputs": [
    {
     "name": "stdout",
     "output_type": "stream",
     "text": [
      "2009\n",
      "2018\n"
     ]
    }
   ],
   "source": [
    "print(df['launched'].dt.year.min())\n",
    "print(df['deadline'].dt.year.max())"
   ]
  },
  {
   "cell_type": "code",
   "execution_count": 42,
   "metadata": {},
   "outputs": [],
   "source": [
    "df['dead_line_year']= (df['deadline'].dt.year-2013.5)/4.5\n",
    "#df['dead_line_year'].describe()"
   ]
  },
  {
   "cell_type": "markdown",
   "metadata": {},
   "source": [
    "### 締切年の2次を説明変数に追加(景気の変動など)"
   ]
  },
  {
   "cell_type": "code",
   "execution_count": 43,
   "metadata": {},
   "outputs": [],
   "source": [
    "df['dead_line_year_2nd']= ((df['deadline'].dt.year-2013.5)/4.5)**2\n",
    "#df['dead_line_year_2nd'].describe()"
   ]
  },
  {
   "cell_type": "code",
   "execution_count": 44,
   "metadata": {
    "scrolled": false
   },
   "outputs": [],
   "source": [
    "df['launched_year']= (df['deadline'].dt.year-2013.5)/4.5\n",
    "#df['launched_year'].describe()"
   ]
  },
  {
   "cell_type": "markdown",
   "metadata": {},
   "source": [
    "### 開始年の2次を説明変数に追加(景気の変動など)"
   ]
  },
  {
   "cell_type": "code",
   "execution_count": 45,
   "metadata": {},
   "outputs": [],
   "source": [
    "df['launched_year_2nd']= ((df['deadline'].dt.year-2013.5)/4.5)**2\n",
    "#df['launched_year_2nd'].describe()"
   ]
  },
  {
   "cell_type": "markdown",
   "metadata": {},
   "source": [
    "### 季節変動をsin, cosで表現し、説明変数に追加"
   ]
  },
  {
   "cell_type": "code",
   "execution_count": 46,
   "metadata": {},
   "outputs": [],
   "source": [
    "def calc_season_sin_cos(df,lord):\n",
    "    df['tmp_season'+lord]=df[lord].dt.year.astype(str)\n",
    "    start_date_list = ['-01-01']*df['ID'].count()\n",
    "    start_date_ser = pd.Series(start_date_list, index=df['tmp_season'+lord].index)\n",
    "    df['DayofYear_lord']=df['tmp_season'+lord] + start_date_ser\n",
    "    df['DayofYear_lord']=pd.to_datetime(df['DayofYear_lord'], format='%Y-%m-%d %H:%M:%S')\n",
    "    df['DayofYear_lord']=(df[lord]-df['DayofYear_lord']).dt.days\n",
    "    tmp_days = np.array((df['DayofYear_lord']))\n",
    "    df.drop(columns='DayofYear_lord', axis=1, inplace=True)\n",
    "    df.drop(columns='tmp_season'+lord, axis=1, inplace =True)\n",
    "    ss = np.sin(np.radians(tmp_days/365*360))\n",
    "    cc = np.cos(np.radians(tmp_days/365*360))\n",
    "    return pd.Series(ss, index=df['ID'].index, name=str(lord)+'_sin'),pd.Series(cc, index=df['ID'].index,name=str(lord)+'_cos')"
   ]
  },
  {
   "cell_type": "code",
   "execution_count": 47,
   "metadata": {
    "scrolled": true
   },
   "outputs": [],
   "source": [
    "launched_sin, launched_cos =  calc_season_sin_cos(df,'launched')\n",
    "df = pd.concat([df, launched_sin, launched_cos], axis=1)\n",
    "\n",
    "deadline_sin, deadline_cos =  calc_season_sin_cos(df,'deadline')\n",
    "df = pd.concat([df, deadline_sin, deadline_cos], axis=1)"
   ]
  },
  {
   "cell_type": "code",
   "execution_count": 48,
   "metadata": {},
   "outputs": [
    {
     "name": "stdout",
     "output_type": "stream",
     "text": [
      "<class 'pandas.core.frame.DataFrame'>\n",
      "Int64Index: 331675 entries, 0 to 378660\n",
      "Columns: 149 entries, ID to deadline_cos\n",
      "dtypes: datetime64[ns](2), float64(11), int32(121), int64(9), object(6)\n",
      "memory usage: 236.5+ MB\n"
     ]
    }
   ],
   "source": [
    "df.info()"
   ]
  },
  {
   "cell_type": "code",
   "execution_count": 49,
   "metadata": {},
   "outputs": [
    {
     "data": {
      "text/html": [
       "<div>\n",
       "<style scoped>\n",
       "    .dataframe tbody tr th:only-of-type {\n",
       "        vertical-align: middle;\n",
       "    }\n",
       "\n",
       "    .dataframe tbody tr th {\n",
       "        vertical-align: top;\n",
       "    }\n",
       "\n",
       "    .dataframe thead th {\n",
       "        text-align: right;\n",
       "    }\n",
       "</style>\n",
       "<table border=\"1\" class=\"dataframe\">\n",
       "  <thead>\n",
       "    <tr style=\"text-align: right;\">\n",
       "      <th></th>\n",
       "      <th>ID</th>\n",
       "      <th>state</th>\n",
       "      <th>usd_goal_real</th>\n",
       "      <th>use_own_currency</th>\n",
       "      <th>use_EUR</th>\n",
       "      <th>no_sub_div_category</th>\n",
       "      <th>contain_album</th>\n",
       "      <th>contain_film</th>\n",
       "      <th>contain_project</th>\n",
       "      <th>contain_book</th>\n",
       "      <th>...</th>\n",
       "      <th>deadline_dayofweek</th>\n",
       "      <th>goal_per_duration</th>\n",
       "      <th>dead_line_year</th>\n",
       "      <th>dead_line_year_2nd</th>\n",
       "      <th>launched_year</th>\n",
       "      <th>launched_year_2nd</th>\n",
       "      <th>launched_sin</th>\n",
       "      <th>launched_cos</th>\n",
       "      <th>deadline_sin</th>\n",
       "      <th>deadline_cos</th>\n",
       "    </tr>\n",
       "  </thead>\n",
       "  <tbody>\n",
       "    <tr>\n",
       "      <th>count</th>\n",
       "      <td>3.316750e+05</td>\n",
       "      <td>331675.000000</td>\n",
       "      <td>3.316750e+05</td>\n",
       "      <td>331675.000000</td>\n",
       "      <td>331675.000000</td>\n",
       "      <td>331675.000000</td>\n",
       "      <td>331675.000000</td>\n",
       "      <td>331675.000000</td>\n",
       "      <td>331675.000000</td>\n",
       "      <td>331675.000000</td>\n",
       "      <td>...</td>\n",
       "      <td>331675.000000</td>\n",
       "      <td>3.316750e+05</td>\n",
       "      <td>331675.000000</td>\n",
       "      <td>331675.000000</td>\n",
       "      <td>331675.000000</td>\n",
       "      <td>331675.000000</td>\n",
       "      <td>331675.000000</td>\n",
       "      <td>331675.000000</td>\n",
       "      <td>331675.000000</td>\n",
       "      <td>331675.000000</td>\n",
       "    </tr>\n",
       "    <tr>\n",
       "      <th>mean</th>\n",
       "      <td>1.074271e+09</td>\n",
       "      <td>0.403877</td>\n",
       "      <td>4.151000e+04</td>\n",
       "      <td>0.999367</td>\n",
       "      <td>0.043286</td>\n",
       "      <td>0.265522</td>\n",
       "      <td>0.038918</td>\n",
       "      <td>0.033488</td>\n",
       "      <td>0.032665</td>\n",
       "      <td>0.036916</td>\n",
       "      <td>...</td>\n",
       "      <td>3.183773</td>\n",
       "      <td>2.384553e+03</td>\n",
       "      <td>0.165449</td>\n",
       "      <td>0.209278</td>\n",
       "      <td>0.165449</td>\n",
       "      <td>0.209278</td>\n",
       "      <td>0.009507</td>\n",
       "      <td>-0.052123</td>\n",
       "      <td>-0.019778</td>\n",
       "      <td>-0.052338</td>\n",
       "    </tr>\n",
       "    <tr>\n",
       "      <th>std</th>\n",
       "      <td>6.191924e+08</td>\n",
       "      <td>0.490674</td>\n",
       "      <td>1.108930e+06</td>\n",
       "      <td>0.025155</td>\n",
       "      <td>0.203501</td>\n",
       "      <td>0.441611</td>\n",
       "      <td>0.193399</td>\n",
       "      <td>0.179906</td>\n",
       "      <td>0.177757</td>\n",
       "      <td>0.188555</td>\n",
       "      <td>...</td>\n",
       "      <td>1.951072</td>\n",
       "      <td>4.024763e+05</td>\n",
       "      <td>0.426503</td>\n",
       "      <td>0.210910</td>\n",
       "      <td>0.426503</td>\n",
       "      <td>0.210910</td>\n",
       "      <td>0.719422</td>\n",
       "      <td>0.692552</td>\n",
       "      <td>0.714654</td>\n",
       "      <td>0.697239</td>\n",
       "    </tr>\n",
       "    <tr>\n",
       "      <th>min</th>\n",
       "      <td>5.971000e+03</td>\n",
       "      <td>0.000000</td>\n",
       "      <td>1.000000e-02</td>\n",
       "      <td>0.000000</td>\n",
       "      <td>0.000000</td>\n",
       "      <td>0.000000</td>\n",
       "      <td>0.000000</td>\n",
       "      <td>0.000000</td>\n",
       "      <td>0.000000</td>\n",
       "      <td>0.000000</td>\n",
       "      <td>...</td>\n",
       "      <td>0.000000</td>\n",
       "      <td>1.250000e-03</td>\n",
       "      <td>-1.000000</td>\n",
       "      <td>0.012346</td>\n",
       "      <td>-1.000000</td>\n",
       "      <td>0.012346</td>\n",
       "      <td>-0.999991</td>\n",
       "      <td>-0.999963</td>\n",
       "      <td>-0.999991</td>\n",
       "      <td>-0.999963</td>\n",
       "    </tr>\n",
       "    <tr>\n",
       "      <th>25%</th>\n",
       "      <td>5.371725e+08</td>\n",
       "      <td>0.000000</td>\n",
       "      <td>2.000000e+03</td>\n",
       "      <td>1.000000</td>\n",
       "      <td>0.000000</td>\n",
       "      <td>0.000000</td>\n",
       "      <td>0.000000</td>\n",
       "      <td>0.000000</td>\n",
       "      <td>0.000000</td>\n",
       "      <td>0.000000</td>\n",
       "      <td>...</td>\n",
       "      <td>2.000000</td>\n",
       "      <td>6.666667e+01</td>\n",
       "      <td>-0.111111</td>\n",
       "      <td>0.012346</td>\n",
       "      <td>-0.111111</td>\n",
       "      <td>0.012346</td>\n",
       "      <td>-0.723644</td>\n",
       "      <td>-0.744104</td>\n",
       "      <td>-0.723644</td>\n",
       "      <td>-0.744104</td>\n",
       "    </tr>\n",
       "    <tr>\n",
       "      <th>50%</th>\n",
       "      <td>1.074573e+09</td>\n",
       "      <td>0.000000</td>\n",
       "      <td>5.000000e+03</td>\n",
       "      <td>1.000000</td>\n",
       "      <td>0.000000</td>\n",
       "      <td>0.000000</td>\n",
       "      <td>0.000000</td>\n",
       "      <td>0.000000</td>\n",
       "      <td>0.000000</td>\n",
       "      <td>0.000000</td>\n",
       "      <td>...</td>\n",
       "      <td>3.000000</td>\n",
       "      <td>1.724138e+02</td>\n",
       "      <td>0.111111</td>\n",
       "      <td>0.111111</td>\n",
       "      <td>0.111111</td>\n",
       "      <td>0.111111</td>\n",
       "      <td>0.034422</td>\n",
       "      <td>-0.064508</td>\n",
       "      <td>-0.068802</td>\n",
       "      <td>-0.098820</td>\n",
       "    </tr>\n",
       "    <tr>\n",
       "      <th>75%</th>\n",
       "      <td>1.609844e+09</td>\n",
       "      <td>1.000000</td>\n",
       "      <td>1.500000e+04</td>\n",
       "      <td>1.000000</td>\n",
       "      <td>0.000000</td>\n",
       "      <td>1.000000</td>\n",
       "      <td>0.000000</td>\n",
       "      <td>0.000000</td>\n",
       "      <td>0.000000</td>\n",
       "      <td>0.000000</td>\n",
       "      <td>...</td>\n",
       "      <td>5.000000</td>\n",
       "      <td>5.000000e+02</td>\n",
       "      <td>0.555556</td>\n",
       "      <td>0.308642</td>\n",
       "      <td>0.555556</td>\n",
       "      <td>0.308642</td>\n",
       "      <td>0.735417</td>\n",
       "      <td>0.625411</td>\n",
       "      <td>0.717677</td>\n",
       "      <td>0.625411</td>\n",
       "    </tr>\n",
       "    <tr>\n",
       "      <th>max</th>\n",
       "      <td>2.147476e+09</td>\n",
       "      <td>1.000000</td>\n",
       "      <td>1.663614e+08</td>\n",
       "      <td>1.000000</td>\n",
       "      <td>1.000000</td>\n",
       "      <td>1.000000</td>\n",
       "      <td>1.000000</td>\n",
       "      <td>1.000000</td>\n",
       "      <td>1.000000</td>\n",
       "      <td>1.000000</td>\n",
       "      <td>...</td>\n",
       "      <td>6.000000</td>\n",
       "      <td>1.693122e+08</td>\n",
       "      <td>1.000000</td>\n",
       "      <td>1.000000</td>\n",
       "      <td>1.000000</td>\n",
       "      <td>1.000000</td>\n",
       "      <td>0.999991</td>\n",
       "      <td>1.000000</td>\n",
       "      <td>0.999991</td>\n",
       "      <td>1.000000</td>\n",
       "    </tr>\n",
       "  </tbody>\n",
       "</table>\n",
       "<p>8 rows × 141 columns</p>\n",
       "</div>"
      ],
      "text/plain": [
       "                 ID          state  usd_goal_real  use_own_currency  \\\n",
       "count  3.316750e+05  331675.000000   3.316750e+05     331675.000000   \n",
       "mean   1.074271e+09       0.403877   4.151000e+04          0.999367   \n",
       "std    6.191924e+08       0.490674   1.108930e+06          0.025155   \n",
       "min    5.971000e+03       0.000000   1.000000e-02          0.000000   \n",
       "25%    5.371725e+08       0.000000   2.000000e+03          1.000000   \n",
       "50%    1.074573e+09       0.000000   5.000000e+03          1.000000   \n",
       "75%    1.609844e+09       1.000000   1.500000e+04          1.000000   \n",
       "max    2.147476e+09       1.000000   1.663614e+08          1.000000   \n",
       "\n",
       "             use_EUR  no_sub_div_category  contain_album   contain_film  \\\n",
       "count  331675.000000        331675.000000  331675.000000  331675.000000   \n",
       "mean        0.043286             0.265522       0.038918       0.033488   \n",
       "std         0.203501             0.441611       0.193399       0.179906   \n",
       "min         0.000000             0.000000       0.000000       0.000000   \n",
       "25%         0.000000             0.000000       0.000000       0.000000   \n",
       "50%         0.000000             0.000000       0.000000       0.000000   \n",
       "75%         0.000000             1.000000       0.000000       0.000000   \n",
       "max         1.000000             1.000000       1.000000       1.000000   \n",
       "\n",
       "       contain_project   contain_book  ...  deadline_dayofweek  \\\n",
       "count    331675.000000  331675.000000  ...       331675.000000   \n",
       "mean          0.032665       0.036916  ...            3.183773   \n",
       "std           0.177757       0.188555  ...            1.951072   \n",
       "min           0.000000       0.000000  ...            0.000000   \n",
       "25%           0.000000       0.000000  ...            2.000000   \n",
       "50%           0.000000       0.000000  ...            3.000000   \n",
       "75%           0.000000       0.000000  ...            5.000000   \n",
       "max           1.000000       1.000000  ...            6.000000   \n",
       "\n",
       "       goal_per_duration  dead_line_year  dead_line_year_2nd  launched_year  \\\n",
       "count       3.316750e+05   331675.000000       331675.000000  331675.000000   \n",
       "mean        2.384553e+03        0.165449            0.209278       0.165449   \n",
       "std         4.024763e+05        0.426503            0.210910       0.426503   \n",
       "min         1.250000e-03       -1.000000            0.012346      -1.000000   \n",
       "25%         6.666667e+01       -0.111111            0.012346      -0.111111   \n",
       "50%         1.724138e+02        0.111111            0.111111       0.111111   \n",
       "75%         5.000000e+02        0.555556            0.308642       0.555556   \n",
       "max         1.693122e+08        1.000000            1.000000       1.000000   \n",
       "\n",
       "       launched_year_2nd   launched_sin   launched_cos   deadline_sin  \\\n",
       "count      331675.000000  331675.000000  331675.000000  331675.000000   \n",
       "mean            0.209278       0.009507      -0.052123      -0.019778   \n",
       "std             0.210910       0.719422       0.692552       0.714654   \n",
       "min             0.012346      -0.999991      -0.999963      -0.999991   \n",
       "25%             0.012346      -0.723644      -0.744104      -0.723644   \n",
       "50%             0.111111       0.034422      -0.064508      -0.068802   \n",
       "75%             0.308642       0.735417       0.625411       0.717677   \n",
       "max             1.000000       0.999991       1.000000       0.999991   \n",
       "\n",
       "        deadline_cos  \n",
       "count  331675.000000  \n",
       "mean       -0.052338  \n",
       "std         0.697239  \n",
       "min        -0.999963  \n",
       "25%        -0.744104  \n",
       "50%        -0.098820  \n",
       "75%         0.625411  \n",
       "max         1.000000  \n",
       "\n",
       "[8 rows x 141 columns]"
      ]
     },
     "execution_count": 49,
     "metadata": {},
     "output_type": "execute_result"
    }
   ],
   "source": [
    "df.describe()"
   ]
  },
  {
   "cell_type": "code",
   "execution_count": 50,
   "metadata": {},
   "outputs": [
    {
     "name": "stdout",
     "output_type": "stream",
     "text": [
      "<class 'pandas.core.frame.DataFrame'>\n",
      "Int64Index: 331675 entries, 0 to 378660\n",
      "Columns: 149 entries, ID to deadline_cos\n",
      "dtypes: datetime64[ns](2), float64(11), int32(121), int64(9), object(6)\n",
      "memory usage: 236.5+ MB\n"
     ]
    }
   ],
   "source": [
    "df.info()"
   ]
  },
  {
   "cell_type": "code",
   "execution_count": 51,
   "metadata": {
    "scrolled": true
   },
   "outputs": [
    {
     "data": {
      "text/html": [
       "<div>\n",
       "<style scoped>\n",
       "    .dataframe tbody tr th:only-of-type {\n",
       "        vertical-align: middle;\n",
       "    }\n",
       "\n",
       "    .dataframe tbody tr th {\n",
       "        vertical-align: top;\n",
       "    }\n",
       "\n",
       "    .dataframe thead th {\n",
       "        text-align: right;\n",
       "    }\n",
       "</style>\n",
       "<table border=\"1\" class=\"dataframe\">\n",
       "  <thead>\n",
       "    <tr style=\"text-align: right;\">\n",
       "      <th></th>\n",
       "      <th>ID</th>\n",
       "      <th>name</th>\n",
       "      <th>category</th>\n",
       "      <th>main_category</th>\n",
       "      <th>currency</th>\n",
       "      <th>deadline</th>\n",
       "      <th>launched</th>\n",
       "      <th>state</th>\n",
       "      <th>country</th>\n",
       "      <th>usd_goal_real</th>\n",
       "      <th>...</th>\n",
       "      <th>deadline_dayofweek</th>\n",
       "      <th>goal_per_duration</th>\n",
       "      <th>dead_line_year</th>\n",
       "      <th>dead_line_year_2nd</th>\n",
       "      <th>launched_year</th>\n",
       "      <th>launched_year_2nd</th>\n",
       "      <th>launched_sin</th>\n",
       "      <th>launched_cos</th>\n",
       "      <th>deadline_sin</th>\n",
       "      <th>deadline_cos</th>\n",
       "    </tr>\n",
       "  </thead>\n",
       "  <tbody>\n",
       "    <tr>\n",
       "      <th>0</th>\n",
       "      <td>1000002330</td>\n",
       "      <td>the songs of adelaide &amp; abullah</td>\n",
       "      <td>Poetry</td>\n",
       "      <td>Publishing</td>\n",
       "      <td>GBP</td>\n",
       "      <td>2015-10-09</td>\n",
       "      <td>2015-08-11 12:12:28</td>\n",
       "      <td>0</td>\n",
       "      <td>GB</td>\n",
       "      <td>1533.95</td>\n",
       "      <td>...</td>\n",
       "      <td>4</td>\n",
       "      <td>26.447414</td>\n",
       "      <td>0.333333</td>\n",
       "      <td>0.111111</td>\n",
       "      <td>0.333333</td>\n",
       "      <td>0.111111</td>\n",
       "      <td>-0.628763</td>\n",
       "      <td>-0.777597</td>\n",
       "      <td>-0.992222</td>\n",
       "      <td>0.124479</td>\n",
       "    </tr>\n",
       "    <tr>\n",
       "      <th>1</th>\n",
       "      <td>1000003930</td>\n",
       "      <td>greeting from earth: zgac arts capsule for et</td>\n",
       "      <td>Narrative Film</td>\n",
       "      <td>Film &amp; Video</td>\n",
       "      <td>USD</td>\n",
       "      <td>2017-11-01</td>\n",
       "      <td>2017-09-02 04:43:57</td>\n",
       "      <td>0</td>\n",
       "      <td>US</td>\n",
       "      <td>30000.00</td>\n",
       "      <td>...</td>\n",
       "      <td>2</td>\n",
       "      <td>508.474576</td>\n",
       "      <td>0.777778</td>\n",
       "      <td>0.604938</td>\n",
       "      <td>0.777778</td>\n",
       "      <td>0.604938</td>\n",
       "      <td>-0.871706</td>\n",
       "      <td>-0.490029</td>\n",
       "      <td>-0.867456</td>\n",
       "      <td>0.497513</td>\n",
       "    </tr>\n",
       "    <tr>\n",
       "      <th>2</th>\n",
       "      <td>1000004038</td>\n",
       "      <td>where is hank?</td>\n",
       "      <td>Narrative Film</td>\n",
       "      <td>Film &amp; Video</td>\n",
       "      <td>USD</td>\n",
       "      <td>2013-02-26</td>\n",
       "      <td>2013-01-12 00:20:50</td>\n",
       "      <td>0</td>\n",
       "      <td>US</td>\n",
       "      <td>45000.00</td>\n",
       "      <td>...</td>\n",
       "      <td>1</td>\n",
       "      <td>1022.727273</td>\n",
       "      <td>-0.111111</td>\n",
       "      <td>0.012346</td>\n",
       "      <td>-0.111111</td>\n",
       "      <td>0.012346</td>\n",
       "      <td>0.188227</td>\n",
       "      <td>0.982126</td>\n",
       "      <td>0.821477</td>\n",
       "      <td>0.570242</td>\n",
       "    </tr>\n",
       "    <tr>\n",
       "      <th>3</th>\n",
       "      <td>1000007540</td>\n",
       "      <td>toshicapital rekordz needs help to complete album</td>\n",
       "      <td>Music</td>\n",
       "      <td>Music</td>\n",
       "      <td>USD</td>\n",
       "      <td>2012-04-16</td>\n",
       "      <td>2012-03-17 03:24:11</td>\n",
       "      <td>0</td>\n",
       "      <td>US</td>\n",
       "      <td>5000.00</td>\n",
       "      <td>...</td>\n",
       "      <td>0</td>\n",
       "      <td>172.413793</td>\n",
       "      <td>-0.333333</td>\n",
       "      <td>0.111111</td>\n",
       "      <td>-0.333333</td>\n",
       "      <td>0.111111</td>\n",
       "      <td>0.965740</td>\n",
       "      <td>0.259512</td>\n",
       "      <td>0.967938</td>\n",
       "      <td>-0.251190</td>\n",
       "    </tr>\n",
       "    <tr>\n",
       "      <th>5</th>\n",
       "      <td>1000014025</td>\n",
       "      <td>monarch espresso bar</td>\n",
       "      <td>Restaurants</td>\n",
       "      <td>Food</td>\n",
       "      <td>USD</td>\n",
       "      <td>2016-04-01</td>\n",
       "      <td>2016-02-26 13:38:27</td>\n",
       "      <td>1</td>\n",
       "      <td>US</td>\n",
       "      <td>50000.00</td>\n",
       "      <td>...</td>\n",
       "      <td>4</td>\n",
       "      <td>1470.588235</td>\n",
       "      <td>0.555556</td>\n",
       "      <td>0.308642</td>\n",
       "      <td>0.555556</td>\n",
       "      <td>0.308642</td>\n",
       "      <td>0.821477</td>\n",
       "      <td>0.570242</td>\n",
       "      <td>0.999991</td>\n",
       "      <td>0.004304</td>\n",
       "    </tr>\n",
       "  </tbody>\n",
       "</table>\n",
       "<p>5 rows × 149 columns</p>\n",
       "</div>"
      ],
      "text/plain": [
       "           ID                                               name  \\\n",
       "0  1000002330                    the songs of adelaide & abullah   \n",
       "1  1000003930      greeting from earth: zgac arts capsule for et   \n",
       "2  1000004038                                     where is hank?   \n",
       "3  1000007540  toshicapital rekordz needs help to complete album   \n",
       "5  1000014025                               monarch espresso bar   \n",
       "\n",
       "         category main_category currency   deadline            launched  \\\n",
       "0          Poetry    Publishing      GBP 2015-10-09 2015-08-11 12:12:28   \n",
       "1  Narrative Film  Film & Video      USD 2017-11-01 2017-09-02 04:43:57   \n",
       "2  Narrative Film  Film & Video      USD 2013-02-26 2013-01-12 00:20:50   \n",
       "3           Music         Music      USD 2012-04-16 2012-03-17 03:24:11   \n",
       "5     Restaurants          Food      USD 2016-04-01 2016-02-26 13:38:27   \n",
       "\n",
       "   state country  usd_goal_real  ... deadline_dayofweek  goal_per_duration  \\\n",
       "0      0      GB        1533.95  ...                  4          26.447414   \n",
       "1      0      US       30000.00  ...                  2         508.474576   \n",
       "2      0      US       45000.00  ...                  1        1022.727273   \n",
       "3      0      US        5000.00  ...                  0         172.413793   \n",
       "5      1      US       50000.00  ...                  4        1470.588235   \n",
       "\n",
       "   dead_line_year  dead_line_year_2nd  launched_year  launched_year_2nd  \\\n",
       "0        0.333333            0.111111       0.333333           0.111111   \n",
       "1        0.777778            0.604938       0.777778           0.604938   \n",
       "2       -0.111111            0.012346      -0.111111           0.012346   \n",
       "3       -0.333333            0.111111      -0.333333           0.111111   \n",
       "5        0.555556            0.308642       0.555556           0.308642   \n",
       "\n",
       "   launched_sin  launched_cos  deadline_sin  deadline_cos  \n",
       "0     -0.628763     -0.777597     -0.992222      0.124479  \n",
       "1     -0.871706     -0.490029     -0.867456      0.497513  \n",
       "2      0.188227      0.982126      0.821477      0.570242  \n",
       "3      0.965740      0.259512      0.967938     -0.251190  \n",
       "5      0.821477      0.570242      0.999991      0.004304  \n",
       "\n",
       "[5 rows x 149 columns]"
      ]
     },
     "execution_count": 51,
     "metadata": {},
     "output_type": "execute_result"
    }
   ],
   "source": [
    "df.head()"
   ]
  },
  {
   "cell_type": "markdown",
   "metadata": {},
   "source": [
    "## 4. 学習用データに整理"
   ]
  },
  {
   "cell_type": "markdown",
   "metadata": {},
   "source": [
    "### 使わない変数(object等)を削除"
   ]
  },
  {
   "cell_type": "code",
   "execution_count": 52,
   "metadata": {},
   "outputs": [
    {
     "data": {
      "text/html": [
       "<div>\n",
       "<style scoped>\n",
       "    .dataframe tbody tr th:only-of-type {\n",
       "        vertical-align: middle;\n",
       "    }\n",
       "\n",
       "    .dataframe tbody tr th {\n",
       "        vertical-align: top;\n",
       "    }\n",
       "\n",
       "    .dataframe thead th {\n",
       "        text-align: right;\n",
       "    }\n",
       "</style>\n",
       "<table border=\"1\" class=\"dataframe\">\n",
       "  <thead>\n",
       "    <tr style=\"text-align: right;\">\n",
       "      <th></th>\n",
       "      <th>category</th>\n",
       "      <th>main_category</th>\n",
       "      <th>state</th>\n",
       "      <th>country</th>\n",
       "      <th>usd_goal_real</th>\n",
       "      <th>own_currency</th>\n",
       "      <th>use_own_currency</th>\n",
       "      <th>use_EUR</th>\n",
       "      <th>no_sub_div_category</th>\n",
       "      <th>contain_album</th>\n",
       "      <th>...</th>\n",
       "      <th>deadline_dayofweek</th>\n",
       "      <th>goal_per_duration</th>\n",
       "      <th>dead_line_year</th>\n",
       "      <th>dead_line_year_2nd</th>\n",
       "      <th>launched_year</th>\n",
       "      <th>launched_year_2nd</th>\n",
       "      <th>launched_sin</th>\n",
       "      <th>launched_cos</th>\n",
       "      <th>deadline_sin</th>\n",
       "      <th>deadline_cos</th>\n",
       "    </tr>\n",
       "  </thead>\n",
       "  <tbody>\n",
       "    <tr>\n",
       "      <th>0</th>\n",
       "      <td>Poetry</td>\n",
       "      <td>Publishing</td>\n",
       "      <td>0</td>\n",
       "      <td>GB</td>\n",
       "      <td>1533.95</td>\n",
       "      <td>GBP</td>\n",
       "      <td>1</td>\n",
       "      <td>0</td>\n",
       "      <td>0</td>\n",
       "      <td>0</td>\n",
       "      <td>...</td>\n",
       "      <td>4</td>\n",
       "      <td>26.447414</td>\n",
       "      <td>0.333333</td>\n",
       "      <td>0.111111</td>\n",
       "      <td>0.333333</td>\n",
       "      <td>0.111111</td>\n",
       "      <td>-0.628763</td>\n",
       "      <td>-0.777597</td>\n",
       "      <td>-0.992222</td>\n",
       "      <td>0.124479</td>\n",
       "    </tr>\n",
       "    <tr>\n",
       "      <th>1</th>\n",
       "      <td>Narrative Film</td>\n",
       "      <td>Film &amp; Video</td>\n",
       "      <td>0</td>\n",
       "      <td>US</td>\n",
       "      <td>30000.00</td>\n",
       "      <td>USD</td>\n",
       "      <td>1</td>\n",
       "      <td>0</td>\n",
       "      <td>0</td>\n",
       "      <td>0</td>\n",
       "      <td>...</td>\n",
       "      <td>2</td>\n",
       "      <td>508.474576</td>\n",
       "      <td>0.777778</td>\n",
       "      <td>0.604938</td>\n",
       "      <td>0.777778</td>\n",
       "      <td>0.604938</td>\n",
       "      <td>-0.871706</td>\n",
       "      <td>-0.490029</td>\n",
       "      <td>-0.867456</td>\n",
       "      <td>0.497513</td>\n",
       "    </tr>\n",
       "    <tr>\n",
       "      <th>2</th>\n",
       "      <td>Narrative Film</td>\n",
       "      <td>Film &amp; Video</td>\n",
       "      <td>0</td>\n",
       "      <td>US</td>\n",
       "      <td>45000.00</td>\n",
       "      <td>USD</td>\n",
       "      <td>1</td>\n",
       "      <td>0</td>\n",
       "      <td>0</td>\n",
       "      <td>0</td>\n",
       "      <td>...</td>\n",
       "      <td>1</td>\n",
       "      <td>1022.727273</td>\n",
       "      <td>-0.111111</td>\n",
       "      <td>0.012346</td>\n",
       "      <td>-0.111111</td>\n",
       "      <td>0.012346</td>\n",
       "      <td>0.188227</td>\n",
       "      <td>0.982126</td>\n",
       "      <td>0.821477</td>\n",
       "      <td>0.570242</td>\n",
       "    </tr>\n",
       "    <tr>\n",
       "      <th>3</th>\n",
       "      <td>Music</td>\n",
       "      <td>Music</td>\n",
       "      <td>0</td>\n",
       "      <td>US</td>\n",
       "      <td>5000.00</td>\n",
       "      <td>USD</td>\n",
       "      <td>1</td>\n",
       "      <td>0</td>\n",
       "      <td>1</td>\n",
       "      <td>1</td>\n",
       "      <td>...</td>\n",
       "      <td>0</td>\n",
       "      <td>172.413793</td>\n",
       "      <td>-0.333333</td>\n",
       "      <td>0.111111</td>\n",
       "      <td>-0.333333</td>\n",
       "      <td>0.111111</td>\n",
       "      <td>0.965740</td>\n",
       "      <td>0.259512</td>\n",
       "      <td>0.967938</td>\n",
       "      <td>-0.251190</td>\n",
       "    </tr>\n",
       "    <tr>\n",
       "      <th>5</th>\n",
       "      <td>Restaurants</td>\n",
       "      <td>Food</td>\n",
       "      <td>1</td>\n",
       "      <td>US</td>\n",
       "      <td>50000.00</td>\n",
       "      <td>USD</td>\n",
       "      <td>1</td>\n",
       "      <td>0</td>\n",
       "      <td>0</td>\n",
       "      <td>0</td>\n",
       "      <td>...</td>\n",
       "      <td>4</td>\n",
       "      <td>1470.588235</td>\n",
       "      <td>0.555556</td>\n",
       "      <td>0.308642</td>\n",
       "      <td>0.555556</td>\n",
       "      <td>0.308642</td>\n",
       "      <td>0.821477</td>\n",
       "      <td>0.570242</td>\n",
       "      <td>0.999991</td>\n",
       "      <td>0.004304</td>\n",
       "    </tr>\n",
       "  </tbody>\n",
       "</table>\n",
       "<p>5 rows × 144 columns</p>\n",
       "</div>"
      ],
      "text/plain": [
       "         category main_category  state country  usd_goal_real own_currency  \\\n",
       "0          Poetry    Publishing      0      GB        1533.95          GBP   \n",
       "1  Narrative Film  Film & Video      0      US       30000.00          USD   \n",
       "2  Narrative Film  Film & Video      0      US       45000.00          USD   \n",
       "3           Music         Music      0      US        5000.00          USD   \n",
       "5     Restaurants          Food      1      US       50000.00          USD   \n",
       "\n",
       "   use_own_currency  use_EUR  no_sub_div_category  contain_album  ...  \\\n",
       "0                 1        0                    0              0  ...   \n",
       "1                 1        0                    0              0  ...   \n",
       "2                 1        0                    0              0  ...   \n",
       "3                 1        0                    1              1  ...   \n",
       "5                 1        0                    0              0  ...   \n",
       "\n",
       "   deadline_dayofweek  goal_per_duration  dead_line_year  dead_line_year_2nd  \\\n",
       "0                   4          26.447414        0.333333            0.111111   \n",
       "1                   2         508.474576        0.777778            0.604938   \n",
       "2                   1        1022.727273       -0.111111            0.012346   \n",
       "3                   0         172.413793       -0.333333            0.111111   \n",
       "5                   4        1470.588235        0.555556            0.308642   \n",
       "\n",
       "   launched_year  launched_year_2nd  launched_sin  launched_cos  deadline_sin  \\\n",
       "0       0.333333           0.111111     -0.628763     -0.777597     -0.992222   \n",
       "1       0.777778           0.604938     -0.871706     -0.490029     -0.867456   \n",
       "2      -0.111111           0.012346      0.188227      0.982126      0.821477   \n",
       "3      -0.333333           0.111111      0.965740      0.259512      0.967938   \n",
       "5       0.555556           0.308642      0.821477      0.570242      0.999991   \n",
       "\n",
       "   deadline_cos  \n",
       "0      0.124479  \n",
       "1      0.497513  \n",
       "2      0.570242  \n",
       "3     -0.251190  \n",
       "5      0.004304  \n",
       "\n",
       "[5 rows x 144 columns]"
      ]
     },
     "execution_count": 52,
     "metadata": {},
     "output_type": "execute_result"
    }
   ],
   "source": [
    "df.drop(columns='ID', axis=1, inplace=True)\n",
    "df.drop(columns='name', axis=1, inplace=True)\n",
    "df.drop(columns='currency', axis=1, inplace=True)\n",
    "df.drop(columns='deadline', axis=1, inplace=True)\n",
    "df.drop(columns='launched', axis=1, inplace=True)\n",
    "df.head()"
   ]
  },
  {
   "cell_type": "markdown",
   "metadata": {},
   "source": [
    "### one-hot encoding"
   ]
  },
  {
   "cell_type": "code",
   "execution_count": 53,
   "metadata": {},
   "outputs": [],
   "source": [
    "df = pd.get_dummies(df)"
   ]
  },
  {
   "cell_type": "code",
   "execution_count": 54,
   "metadata": {},
   "outputs": [
    {
     "data": {
      "text/html": [
       "<div>\n",
       "<style scoped>\n",
       "    .dataframe tbody tr th:only-of-type {\n",
       "        vertical-align: middle;\n",
       "    }\n",
       "\n",
       "    .dataframe tbody tr th {\n",
       "        vertical-align: top;\n",
       "    }\n",
       "\n",
       "    .dataframe thead th {\n",
       "        text-align: right;\n",
       "    }\n",
       "</style>\n",
       "<table border=\"1\" class=\"dataframe\">\n",
       "  <thead>\n",
       "    <tr style=\"text-align: right;\">\n",
       "      <th></th>\n",
       "      <th>state</th>\n",
       "      <th>usd_goal_real</th>\n",
       "      <th>use_own_currency</th>\n",
       "      <th>use_EUR</th>\n",
       "      <th>no_sub_div_category</th>\n",
       "      <th>contain_album</th>\n",
       "      <th>contain_film</th>\n",
       "      <th>contain_project</th>\n",
       "      <th>contain_book</th>\n",
       "      <th>contain_art</th>\n",
       "      <th>...</th>\n",
       "      <th>own_currency_EUR</th>\n",
       "      <th>own_currency_GBP</th>\n",
       "      <th>own_currency_HKD</th>\n",
       "      <th>own_currency_JPY</th>\n",
       "      <th>own_currency_MXN</th>\n",
       "      <th>own_currency_NOK</th>\n",
       "      <th>own_currency_NZD</th>\n",
       "      <th>own_currency_SEK</th>\n",
       "      <th>own_currency_SGD</th>\n",
       "      <th>own_currency_USD</th>\n",
       "    </tr>\n",
       "  </thead>\n",
       "  <tbody>\n",
       "    <tr>\n",
       "      <th>0</th>\n",
       "      <td>0</td>\n",
       "      <td>1533.95</td>\n",
       "      <td>1</td>\n",
       "      <td>0</td>\n",
       "      <td>0</td>\n",
       "      <td>0</td>\n",
       "      <td>0</td>\n",
       "      <td>0</td>\n",
       "      <td>0</td>\n",
       "      <td>0</td>\n",
       "      <td>...</td>\n",
       "      <td>0</td>\n",
       "      <td>1</td>\n",
       "      <td>0</td>\n",
       "      <td>0</td>\n",
       "      <td>0</td>\n",
       "      <td>0</td>\n",
       "      <td>0</td>\n",
       "      <td>0</td>\n",
       "      <td>0</td>\n",
       "      <td>0</td>\n",
       "    </tr>\n",
       "    <tr>\n",
       "      <th>1</th>\n",
       "      <td>0</td>\n",
       "      <td>30000.00</td>\n",
       "      <td>1</td>\n",
       "      <td>0</td>\n",
       "      <td>0</td>\n",
       "      <td>0</td>\n",
       "      <td>0</td>\n",
       "      <td>0</td>\n",
       "      <td>0</td>\n",
       "      <td>1</td>\n",
       "      <td>...</td>\n",
       "      <td>0</td>\n",
       "      <td>0</td>\n",
       "      <td>0</td>\n",
       "      <td>0</td>\n",
       "      <td>0</td>\n",
       "      <td>0</td>\n",
       "      <td>0</td>\n",
       "      <td>0</td>\n",
       "      <td>0</td>\n",
       "      <td>1</td>\n",
       "    </tr>\n",
       "    <tr>\n",
       "      <th>2</th>\n",
       "      <td>0</td>\n",
       "      <td>45000.00</td>\n",
       "      <td>1</td>\n",
       "      <td>0</td>\n",
       "      <td>0</td>\n",
       "      <td>0</td>\n",
       "      <td>0</td>\n",
       "      <td>0</td>\n",
       "      <td>0</td>\n",
       "      <td>0</td>\n",
       "      <td>...</td>\n",
       "      <td>0</td>\n",
       "      <td>0</td>\n",
       "      <td>0</td>\n",
       "      <td>0</td>\n",
       "      <td>0</td>\n",
       "      <td>0</td>\n",
       "      <td>0</td>\n",
       "      <td>0</td>\n",
       "      <td>0</td>\n",
       "      <td>1</td>\n",
       "    </tr>\n",
       "    <tr>\n",
       "      <th>3</th>\n",
       "      <td>0</td>\n",
       "      <td>5000.00</td>\n",
       "      <td>1</td>\n",
       "      <td>0</td>\n",
       "      <td>1</td>\n",
       "      <td>1</td>\n",
       "      <td>0</td>\n",
       "      <td>0</td>\n",
       "      <td>0</td>\n",
       "      <td>0</td>\n",
       "      <td>...</td>\n",
       "      <td>0</td>\n",
       "      <td>0</td>\n",
       "      <td>0</td>\n",
       "      <td>0</td>\n",
       "      <td>0</td>\n",
       "      <td>0</td>\n",
       "      <td>0</td>\n",
       "      <td>0</td>\n",
       "      <td>0</td>\n",
       "      <td>1</td>\n",
       "    </tr>\n",
       "    <tr>\n",
       "      <th>5</th>\n",
       "      <td>1</td>\n",
       "      <td>50000.00</td>\n",
       "      <td>1</td>\n",
       "      <td>0</td>\n",
       "      <td>0</td>\n",
       "      <td>0</td>\n",
       "      <td>0</td>\n",
       "      <td>0</td>\n",
       "      <td>0</td>\n",
       "      <td>0</td>\n",
       "      <td>...</td>\n",
       "      <td>0</td>\n",
       "      <td>0</td>\n",
       "      <td>0</td>\n",
       "      <td>0</td>\n",
       "      <td>0</td>\n",
       "      <td>0</td>\n",
       "      <td>0</td>\n",
       "      <td>0</td>\n",
       "      <td>0</td>\n",
       "      <td>1</td>\n",
       "    </tr>\n",
       "  </tbody>\n",
       "</table>\n",
       "<p>5 rows × 351 columns</p>\n",
       "</div>"
      ],
      "text/plain": [
       "   state  usd_goal_real  use_own_currency  use_EUR  no_sub_div_category  \\\n",
       "0      0        1533.95                 1        0                    0   \n",
       "1      0       30000.00                 1        0                    0   \n",
       "2      0       45000.00                 1        0                    0   \n",
       "3      0        5000.00                 1        0                    1   \n",
       "5      1       50000.00                 1        0                    0   \n",
       "\n",
       "   contain_album  contain_film  contain_project  contain_book  contain_art  \\\n",
       "0              0             0                0             0            0   \n",
       "1              0             0                0             0            1   \n",
       "2              0             0                0             0            0   \n",
       "3              1             0                0             0            0   \n",
       "5              0             0                0             0            0   \n",
       "\n",
       "   ...  own_currency_EUR  own_currency_GBP  own_currency_HKD  \\\n",
       "0  ...                 0                 1                 0   \n",
       "1  ...                 0                 0                 0   \n",
       "2  ...                 0                 0                 0   \n",
       "3  ...                 0                 0                 0   \n",
       "5  ...                 0                 0                 0   \n",
       "\n",
       "   own_currency_JPY  own_currency_MXN  own_currency_NOK  own_currency_NZD  \\\n",
       "0                 0                 0                 0                 0   \n",
       "1                 0                 0                 0                 0   \n",
       "2                 0                 0                 0                 0   \n",
       "3                 0                 0                 0                 0   \n",
       "5                 0                 0                 0                 0   \n",
       "\n",
       "   own_currency_SEK  own_currency_SGD  own_currency_USD  \n",
       "0                 0                 0                 0  \n",
       "1                 0                 0                 1  \n",
       "2                 0                 0                 1  \n",
       "3                 0                 0                 1  \n",
       "5                 0                 0                 1  \n",
       "\n",
       "[5 rows x 351 columns]"
      ]
     },
     "execution_count": 54,
     "metadata": {},
     "output_type": "execute_result"
    }
   ],
   "source": [
    "df.head()"
   ]
  },
  {
   "cell_type": "code",
   "execution_count": 55,
   "metadata": {},
   "outputs": [
    {
     "data": {
      "text/html": [
       "<div>\n",
       "<style scoped>\n",
       "    .dataframe tbody tr th:only-of-type {\n",
       "        vertical-align: middle;\n",
       "    }\n",
       "\n",
       "    .dataframe tbody tr th {\n",
       "        vertical-align: top;\n",
       "    }\n",
       "\n",
       "    .dataframe thead th {\n",
       "        text-align: right;\n",
       "    }\n",
       "</style>\n",
       "<table border=\"1\" class=\"dataframe\">\n",
       "  <thead>\n",
       "    <tr style=\"text-align: right;\">\n",
       "      <th></th>\n",
       "      <th>state</th>\n",
       "      <th>usd_goal_real</th>\n",
       "      <th>use_own_currency</th>\n",
       "      <th>use_EUR</th>\n",
       "      <th>no_sub_div_category</th>\n",
       "      <th>contain_album</th>\n",
       "      <th>contain_film</th>\n",
       "      <th>contain_project</th>\n",
       "      <th>contain_book</th>\n",
       "      <th>contain_art</th>\n",
       "      <th>...</th>\n",
       "      <th>own_currency_EUR</th>\n",
       "      <th>own_currency_GBP</th>\n",
       "      <th>own_currency_HKD</th>\n",
       "      <th>own_currency_JPY</th>\n",
       "      <th>own_currency_MXN</th>\n",
       "      <th>own_currency_NOK</th>\n",
       "      <th>own_currency_NZD</th>\n",
       "      <th>own_currency_SEK</th>\n",
       "      <th>own_currency_SGD</th>\n",
       "      <th>own_currency_USD</th>\n",
       "    </tr>\n",
       "  </thead>\n",
       "  <tbody>\n",
       "    <tr>\n",
       "      <th>count</th>\n",
       "      <td>331675.000000</td>\n",
       "      <td>3.316750e+05</td>\n",
       "      <td>331675.000000</td>\n",
       "      <td>331675.000000</td>\n",
       "      <td>331675.000000</td>\n",
       "      <td>331675.000000</td>\n",
       "      <td>331675.000000</td>\n",
       "      <td>331675.000000</td>\n",
       "      <td>331675.000000</td>\n",
       "      <td>331675.000000</td>\n",
       "      <td>...</td>\n",
       "      <td>331675.000000</td>\n",
       "      <td>331675.000000</td>\n",
       "      <td>331675.000000</td>\n",
       "      <td>331675.000000</td>\n",
       "      <td>331675.000000</td>\n",
       "      <td>331675.000000</td>\n",
       "      <td>331675.000000</td>\n",
       "      <td>331675.000000</td>\n",
       "      <td>331675.000000</td>\n",
       "      <td>331675.000000</td>\n",
       "    </tr>\n",
       "    <tr>\n",
       "      <th>mean</th>\n",
       "      <td>0.403877</td>\n",
       "      <td>4.151000e+04</td>\n",
       "      <td>0.999367</td>\n",
       "      <td>0.043286</td>\n",
       "      <td>0.265522</td>\n",
       "      <td>0.038918</td>\n",
       "      <td>0.033488</td>\n",
       "      <td>0.032665</td>\n",
       "      <td>0.036916</td>\n",
       "      <td>0.069743</td>\n",
       "      <td>...</td>\n",
       "      <td>0.043286</td>\n",
       "      <td>0.088804</td>\n",
       "      <td>0.001438</td>\n",
       "      <td>0.000069</td>\n",
       "      <td>0.004254</td>\n",
       "      <td>0.001755</td>\n",
       "      <td>0.003841</td>\n",
       "      <td>0.004550</td>\n",
       "      <td>0.001369</td>\n",
       "      <td>0.788000</td>\n",
       "    </tr>\n",
       "    <tr>\n",
       "      <th>std</th>\n",
       "      <td>0.490674</td>\n",
       "      <td>1.108930e+06</td>\n",
       "      <td>0.025155</td>\n",
       "      <td>0.203501</td>\n",
       "      <td>0.441611</td>\n",
       "      <td>0.193399</td>\n",
       "      <td>0.179906</td>\n",
       "      <td>0.177757</td>\n",
       "      <td>0.188555</td>\n",
       "      <td>0.254714</td>\n",
       "      <td>...</td>\n",
       "      <td>0.203501</td>\n",
       "      <td>0.284461</td>\n",
       "      <td>0.037896</td>\n",
       "      <td>0.008327</td>\n",
       "      <td>0.065085</td>\n",
       "      <td>0.041853</td>\n",
       "      <td>0.061858</td>\n",
       "      <td>0.067297</td>\n",
       "      <td>0.036972</td>\n",
       "      <td>0.408725</td>\n",
       "    </tr>\n",
       "    <tr>\n",
       "      <th>min</th>\n",
       "      <td>0.000000</td>\n",
       "      <td>1.000000e-02</td>\n",
       "      <td>0.000000</td>\n",
       "      <td>0.000000</td>\n",
       "      <td>0.000000</td>\n",
       "      <td>0.000000</td>\n",
       "      <td>0.000000</td>\n",
       "      <td>0.000000</td>\n",
       "      <td>0.000000</td>\n",
       "      <td>0.000000</td>\n",
       "      <td>...</td>\n",
       "      <td>0.000000</td>\n",
       "      <td>0.000000</td>\n",
       "      <td>0.000000</td>\n",
       "      <td>0.000000</td>\n",
       "      <td>0.000000</td>\n",
       "      <td>0.000000</td>\n",
       "      <td>0.000000</td>\n",
       "      <td>0.000000</td>\n",
       "      <td>0.000000</td>\n",
       "      <td>0.000000</td>\n",
       "    </tr>\n",
       "    <tr>\n",
       "      <th>25%</th>\n",
       "      <td>0.000000</td>\n",
       "      <td>2.000000e+03</td>\n",
       "      <td>1.000000</td>\n",
       "      <td>0.000000</td>\n",
       "      <td>0.000000</td>\n",
       "      <td>0.000000</td>\n",
       "      <td>0.000000</td>\n",
       "      <td>0.000000</td>\n",
       "      <td>0.000000</td>\n",
       "      <td>0.000000</td>\n",
       "      <td>...</td>\n",
       "      <td>0.000000</td>\n",
       "      <td>0.000000</td>\n",
       "      <td>0.000000</td>\n",
       "      <td>0.000000</td>\n",
       "      <td>0.000000</td>\n",
       "      <td>0.000000</td>\n",
       "      <td>0.000000</td>\n",
       "      <td>0.000000</td>\n",
       "      <td>0.000000</td>\n",
       "      <td>1.000000</td>\n",
       "    </tr>\n",
       "    <tr>\n",
       "      <th>50%</th>\n",
       "      <td>0.000000</td>\n",
       "      <td>5.000000e+03</td>\n",
       "      <td>1.000000</td>\n",
       "      <td>0.000000</td>\n",
       "      <td>0.000000</td>\n",
       "      <td>0.000000</td>\n",
       "      <td>0.000000</td>\n",
       "      <td>0.000000</td>\n",
       "      <td>0.000000</td>\n",
       "      <td>0.000000</td>\n",
       "      <td>...</td>\n",
       "      <td>0.000000</td>\n",
       "      <td>0.000000</td>\n",
       "      <td>0.000000</td>\n",
       "      <td>0.000000</td>\n",
       "      <td>0.000000</td>\n",
       "      <td>0.000000</td>\n",
       "      <td>0.000000</td>\n",
       "      <td>0.000000</td>\n",
       "      <td>0.000000</td>\n",
       "      <td>1.000000</td>\n",
       "    </tr>\n",
       "    <tr>\n",
       "      <th>75%</th>\n",
       "      <td>1.000000</td>\n",
       "      <td>1.500000e+04</td>\n",
       "      <td>1.000000</td>\n",
       "      <td>0.000000</td>\n",
       "      <td>1.000000</td>\n",
       "      <td>0.000000</td>\n",
       "      <td>0.000000</td>\n",
       "      <td>0.000000</td>\n",
       "      <td>0.000000</td>\n",
       "      <td>0.000000</td>\n",
       "      <td>...</td>\n",
       "      <td>0.000000</td>\n",
       "      <td>0.000000</td>\n",
       "      <td>0.000000</td>\n",
       "      <td>0.000000</td>\n",
       "      <td>0.000000</td>\n",
       "      <td>0.000000</td>\n",
       "      <td>0.000000</td>\n",
       "      <td>0.000000</td>\n",
       "      <td>0.000000</td>\n",
       "      <td>1.000000</td>\n",
       "    </tr>\n",
       "    <tr>\n",
       "      <th>max</th>\n",
       "      <td>1.000000</td>\n",
       "      <td>1.663614e+08</td>\n",
       "      <td>1.000000</td>\n",
       "      <td>1.000000</td>\n",
       "      <td>1.000000</td>\n",
       "      <td>1.000000</td>\n",
       "      <td>1.000000</td>\n",
       "      <td>1.000000</td>\n",
       "      <td>1.000000</td>\n",
       "      <td>1.000000</td>\n",
       "      <td>...</td>\n",
       "      <td>1.000000</td>\n",
       "      <td>1.000000</td>\n",
       "      <td>1.000000</td>\n",
       "      <td>1.000000</td>\n",
       "      <td>1.000000</td>\n",
       "      <td>1.000000</td>\n",
       "      <td>1.000000</td>\n",
       "      <td>1.000000</td>\n",
       "      <td>1.000000</td>\n",
       "      <td>1.000000</td>\n",
       "    </tr>\n",
       "  </tbody>\n",
       "</table>\n",
       "<p>8 rows × 351 columns</p>\n",
       "</div>"
      ],
      "text/plain": [
       "               state  usd_goal_real  use_own_currency        use_EUR  \\\n",
       "count  331675.000000   3.316750e+05     331675.000000  331675.000000   \n",
       "mean        0.403877   4.151000e+04          0.999367       0.043286   \n",
       "std         0.490674   1.108930e+06          0.025155       0.203501   \n",
       "min         0.000000   1.000000e-02          0.000000       0.000000   \n",
       "25%         0.000000   2.000000e+03          1.000000       0.000000   \n",
       "50%         0.000000   5.000000e+03          1.000000       0.000000   \n",
       "75%         1.000000   1.500000e+04          1.000000       0.000000   \n",
       "max         1.000000   1.663614e+08          1.000000       1.000000   \n",
       "\n",
       "       no_sub_div_category  contain_album   contain_film  contain_project  \\\n",
       "count        331675.000000  331675.000000  331675.000000    331675.000000   \n",
       "mean              0.265522       0.038918       0.033488         0.032665   \n",
       "std               0.441611       0.193399       0.179906         0.177757   \n",
       "min               0.000000       0.000000       0.000000         0.000000   \n",
       "25%               0.000000       0.000000       0.000000         0.000000   \n",
       "50%               0.000000       0.000000       0.000000         0.000000   \n",
       "75%               1.000000       0.000000       0.000000         0.000000   \n",
       "max               1.000000       1.000000       1.000000         1.000000   \n",
       "\n",
       "        contain_book    contain_art  ...  own_currency_EUR  own_currency_GBP  \\\n",
       "count  331675.000000  331675.000000  ...     331675.000000     331675.000000   \n",
       "mean        0.036916       0.069743  ...          0.043286          0.088804   \n",
       "std         0.188555       0.254714  ...          0.203501          0.284461   \n",
       "min         0.000000       0.000000  ...          0.000000          0.000000   \n",
       "25%         0.000000       0.000000  ...          0.000000          0.000000   \n",
       "50%         0.000000       0.000000  ...          0.000000          0.000000   \n",
       "75%         0.000000       0.000000  ...          0.000000          0.000000   \n",
       "max         1.000000       1.000000  ...          1.000000          1.000000   \n",
       "\n",
       "       own_currency_HKD  own_currency_JPY  own_currency_MXN  own_currency_NOK  \\\n",
       "count     331675.000000     331675.000000     331675.000000     331675.000000   \n",
       "mean           0.001438          0.000069          0.004254          0.001755   \n",
       "std            0.037896          0.008327          0.065085          0.041853   \n",
       "min            0.000000          0.000000          0.000000          0.000000   \n",
       "25%            0.000000          0.000000          0.000000          0.000000   \n",
       "50%            0.000000          0.000000          0.000000          0.000000   \n",
       "75%            0.000000          0.000000          0.000000          0.000000   \n",
       "max            1.000000          1.000000          1.000000          1.000000   \n",
       "\n",
       "       own_currency_NZD  own_currency_SEK  own_currency_SGD  own_currency_USD  \n",
       "count     331675.000000     331675.000000     331675.000000     331675.000000  \n",
       "mean           0.003841          0.004550          0.001369          0.788000  \n",
       "std            0.061858          0.067297          0.036972          0.408725  \n",
       "min            0.000000          0.000000          0.000000          0.000000  \n",
       "25%            0.000000          0.000000          0.000000          1.000000  \n",
       "50%            0.000000          0.000000          0.000000          1.000000  \n",
       "75%            0.000000          0.000000          0.000000          1.000000  \n",
       "max            1.000000          1.000000          1.000000          1.000000  \n",
       "\n",
       "[8 rows x 351 columns]"
      ]
     },
     "execution_count": 55,
     "metadata": {},
     "output_type": "execute_result"
    }
   ],
   "source": [
    "df.describe()"
   ]
  },
  {
   "cell_type": "code",
   "execution_count": 56,
   "metadata": {},
   "outputs": [
    {
     "data": {
      "text/plain": [
       "state                  0\n",
       "usd_goal_real          0\n",
       "use_own_currency       0\n",
       "use_EUR                0\n",
       "no_sub_div_category    0\n",
       "contain_album          0\n",
       "contain_film           0\n",
       "contain_project        0\n",
       "contain_book           0\n",
       "contain_art            0\n",
       "contain_game           0\n",
       "contain_music          0\n",
       "contain_first          0\n",
       "contain_help           0\n",
       "contain_short          0\n",
       "contain_debut          0\n",
       "contain_documentary    0\n",
       "contain_series         0\n",
       "contain_life           0\n",
       "contain_ep             0\n",
       "contain_world          0\n",
       "contain_video          0\n",
       "contain_love           0\n",
       "contain_make           0\n",
       "contain_story          0\n",
       "contain_novel          0\n",
       "contain_tour           0\n",
       "contain_app            0\n",
       "contain_all            0\n",
       "contain_food           0\n",
       "                      ..\n",
       "country_ES             0\n",
       "country_FR             0\n",
       "country_GB             0\n",
       "country_HK             0\n",
       "country_IE             0\n",
       "country_IT             0\n",
       "country_JP             0\n",
       "country_LU             0\n",
       "country_MX             0\n",
       "country_N,0\"           0\n",
       "country_NL             0\n",
       "country_NO             0\n",
       "country_NZ             0\n",
       "country_SE             0\n",
       "country_SG             0\n",
       "country_US             0\n",
       "own_currency_AUD       0\n",
       "own_currency_CAD       0\n",
       "own_currency_CHF       0\n",
       "own_currency_DKK       0\n",
       "own_currency_EUR       0\n",
       "own_currency_GBP       0\n",
       "own_currency_HKD       0\n",
       "own_currency_JPY       0\n",
       "own_currency_MXN       0\n",
       "own_currency_NOK       0\n",
       "own_currency_NZD       0\n",
       "own_currency_SEK       0\n",
       "own_currency_SGD       0\n",
       "own_currency_USD       0\n",
       "Length: 351, dtype: int64"
      ]
     },
     "execution_count": 56,
     "metadata": {},
     "output_type": "execute_result"
    }
   ],
   "source": [
    "df.isnull().sum()"
   ]
  },
  {
   "cell_type": "code",
   "execution_count": 57,
   "metadata": {},
   "outputs": [],
   "source": [
    "X = np.array(df.drop('state', axis=1).values)\n",
    "y = df[\"state\"].values"
   ]
  },
  {
   "cell_type": "code",
   "execution_count": 58,
   "metadata": {
    "scrolled": true
   },
   "outputs": [
    {
     "data": {
      "text/plain": [
       "(331675, 350)"
      ]
     },
     "execution_count": 58,
     "metadata": {},
     "output_type": "execute_result"
    }
   ],
   "source": [
    "X.shape"
   ]
  },
  {
   "cell_type": "markdown",
   "metadata": {},
   "source": [
    "### ※指示条件"
   ]
  },
  {
   "cell_type": "code",
   "execution_count": 59,
   "metadata": {},
   "outputs": [],
   "source": [
    "test_size = 0.2\n",
    "X_train, X_test, y_train, y_test = train_test_split(X, y, test_size=test_size,random_state=1234)"
   ]
  },
  {
   "cell_type": "markdown",
   "metadata": {},
   "source": [
    "### 標準化"
   ]
  },
  {
   "cell_type": "code",
   "execution_count": 60,
   "metadata": {},
   "outputs": [],
   "source": [
    "scaler=StandardScaler()\n",
    "scaler.fit(X_train)\n",
    "\n",
    "X_train_sc=scaler.transform(X_train)\n",
    "X_test_sc=scaler.transform(X_test)"
   ]
  },
  {
   "cell_type": "markdown",
   "metadata": {},
   "source": [
    "## 5. 学習／評価"
   ]
  },
  {
   "cell_type": "markdown",
   "metadata": {},
   "source": [
    "## 5-1 ロジスティック回帰で試行"
   ]
  },
  {
   "cell_type": "code",
   "execution_count": 61,
   "metadata": {
    "scrolled": true
   },
   "outputs": [
    {
     "name": "stdout",
     "output_type": "stream",
     "text": [
      "正答率（Accuracy_train_logistic） = 68.450%\n",
      "正答率（Accuracy_test_logistic） = 68.382%\n"
     ]
    }
   ],
   "source": [
    "lr = SGDClassifier(loss='log', penalty='none', max_iter=1000, tol=1e-3, random_state=1234)\n",
    "lr.fit(X_train_sc, y_train)\n",
    "# 予測\n",
    "y_pred_train_lr = lr.predict(X_train_sc)\n",
    "y_pred_test_lr = lr.predict(X_test_sc)\n",
    "\n",
    "# 正答率\n",
    "acc_score_train_lr = accuracy_score(y_train,y_pred_train_lr)\n",
    "acc_score_test_lr = accuracy_score(y_test, y_pred_test_lr)\n",
    "\n",
    "print('正答率（Accuracy_train_logistic） = {:.3f}%'.format(100 * acc_score_train_lr ))\n",
    "print('正答率（Accuracy_test_logistic） = {:.3f}%'.format(100 * acc_score_test_lr))"
   ]
  },
  {
   "cell_type": "markdown",
   "metadata": {},
   "source": [
    "## 5-2 XGboostを実行"
   ]
  },
  {
   "cell_type": "code",
   "execution_count": 62,
   "metadata": {},
   "outputs": [],
   "source": [
    "def to_zero_one_class(pred):\n",
    "    result = np.round(pred)\n",
    "    result[result < 0.5] = 0\n",
    "    result[result >= 0.5] = 1\n",
    "    return result"
   ]
  },
  {
   "cell_type": "markdown",
   "metadata": {},
   "source": [
    "### パラメータはあまり調整できず。seedで平均化を試行。"
   ]
  },
  {
   "cell_type": "code",
   "execution_count": 63,
   "metadata": {
    "scrolled": true
   },
   "outputs": [
    {
     "name": "stdout",
     "output_type": "stream",
     "text": [
      "0\n",
      "1\n",
      "2\n",
      "3\n",
      "4\n"
     ]
    }
   ],
   "source": [
    "xgbcs = []\n",
    "for i in range(5):\n",
    "    xgbc = xgb.XGBClassifier(#class_weight=\"balanced\",\n",
    "                             learning_rate=0.1,\n",
    "                             max_depth=6,\n",
    "                             min_child_weight=2,\n",
    "                             gamma = 0.0,\n",
    "                             n_estimators=400,\n",
    "                             subsample=0.8,\n",
    "                             colsample_bytree=0.8,\n",
    "                             reg_lambda=1.0,\n",
    "                             scale_pos_weight=1,\n",
    "                             eval_metric=\"logloss\",\n",
    "                             seed=i)\n",
    "    print(i)\n",
    "    xgbc.fit(X_train_sc, y_train)\n",
    "    xgbcs.append(xgbc)\n",
    "y_predict_train_xgb = np.array([xgbc.predict_proba(X_train_sc)[:, 1]for xgbc in xgbcs]).mean(axis=0)\n",
    "y_predict_test_xgb = np.array([xgbc.predict_proba(X_test_sc)[:, 1]for xgbc in xgbcs]).mean(axis=0)"
   ]
  },
  {
   "cell_type": "code",
   "execution_count": 64,
   "metadata": {},
   "outputs": [
    {
     "name": "stdout",
     "output_type": "stream",
     "text": [
      "正答率（Accuracy_train_xgb） = 73.160%\n",
      "正答率（Accuracy_test_xgb） = 70.907%\n"
     ]
    }
   ],
   "source": [
    "acc_score_train_xgb = accuracy_score(y_train,  to_zero_one_class(y_predict_train_xgb))\n",
    "acc_score_test_xgb = accuracy_score(y_test,  to_zero_one_class(y_predict_test_xgb))\n",
    "print('正答率（Accuracy_train_xgb） = {:.3f}%'.format(100 * acc_score_train_xgb))\n",
    "print('正答率（Accuracy_test_xgb） = {:.3f}%'.format(100 * acc_score_test_xgb))"
   ]
  }
 ],
 "metadata": {
  "kernelspec": {
   "display_name": "Python 3",
   "language": "python",
   "name": "python3"
  },
  "language_info": {
   "codemirror_mode": {
    "name": "ipython",
    "version": 3
   },
   "file_extension": ".py",
   "mimetype": "text/x-python",
   "name": "python",
   "nbconvert_exporter": "python",
   "pygments_lexer": "ipython3",
   "version": "3.7.3"
  }
 },
 "nbformat": 4,
 "nbformat_minor": 2
}
